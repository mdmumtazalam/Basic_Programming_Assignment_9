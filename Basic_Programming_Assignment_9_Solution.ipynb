{
  "cells": [
    {
      "cell_type": "markdown",
      "id": "7984b411",
      "metadata": {
        "id": "7984b411"
      },
      "source": [
        "# Basic_Programming_Assignment_9 Solution :-\n",
        "SUBMITTED BY : MD MUMTAZ ALAM"
      ]
    },
    {
      "cell_type": "markdown",
      "id": "2a9e193f",
      "metadata": {
        "id": "2a9e193f"
      },
      "source": [
        "## 1.Write a Python Program to check if the given number is a Disarium Number ?"
      ]
    },
    {
      "cell_type": "code",
      "execution_count": null,
      "id": "efced5d0",
      "metadata": {
        "id": "efced5d0",
        "outputId": "37ee663c-0463-493d-fe9d-161830b696ab"
      },
      "outputs": [
        {
          "name": "stdout",
          "output_type": "stream",
          "text": [
            "Enter a Number: 222\n",
            "222 is a Not Disarium Number\n",
            "Enter a Number: 135\n",
            "135 is a Disarium Number\n"
          ]
        }
      ],
      "source": [
        "def checkDisariumNumber():\n",
        "    in_num = input('Enter a Number: ')\n",
        "    sum = 0\n",
        "    for item in range(len(in_num)):\n",
        "        sum = sum + int(in_num[item])**(item+1)\n",
        "    if sum == int(in_num):\n",
        "        print(f'{in_num} is a Disarium Number')\n",
        "    else:\n",
        "        print(f'{in_num} is a Not Disarium Number') \n",
        "\n",
        "checkDisariumNumber()\n",
        "checkDisariumNumber()"
      ]
    },
    {
      "cell_type": "markdown",
      "id": "9d2cb51c",
      "metadata": {
        "id": "9d2cb51c"
      },
      "source": [
        "## 2.Write a Python Program to print all Disarium numbers between 1 to 100 ?"
      ]
    },
    {
      "cell_type": "code",
      "execution_count": null,
      "id": "72e52633",
      "metadata": {
        "id": "72e52633",
        "outputId": "ae4b7612-6d87-468f-814c-ef6f5f5aa443"
      },
      "outputs": [
        {
          "data": {
            "text/plain": [
              "[1, 2, 3, 4, 5, 6, 7, 8, 9, 89, 135, 175, 518, 598]"
            ]
          },
          "execution_count": 2,
          "metadata": {},
          "output_type": "execute_result"
        }
      ],
      "source": [
        "def printDisariumNumbers(start=0,end=100):\n",
        "    output_num = []\n",
        "    for number in range(start,end+1):\n",
        "        sum = 0\n",
        "        for item in range(len(str(number))):\n",
        "            sum = sum + int(str(number)[item])**(item+1)\n",
        "        if sum == number:\n",
        "            output_num.append(number)\n",
        "    return output_num\n",
        "            \n",
        "        \n",
        "printDisariumNumbers(1,1000)"
      ]
    },
    {
      "cell_type": "markdown",
      "id": "45b5b5da",
      "metadata": {
        "id": "45b5b5da"
      },
      "source": [
        "## 3.Write a Python Program to check if the given number is Happy Number ?"
      ]
    },
    {
      "cell_type": "code",
      "execution_count": null,
      "id": "2d175b89",
      "metadata": {
        "id": "2d175b89",
        "outputId": "011585cc-c84b-4e3a-b88b-b5ed067571f2"
      },
      "outputs": [
        {
          "name": "stdout",
          "output_type": "stream",
          "text": [
            "Enter a Number: 111\n",
            "111 is not a Happy Number\n",
            "Enter a Number: 100\n",
            "100 is a Happy Number\n"
          ]
        }
      ],
      "source": [
        "def checkHappyNumber():\n",
        "    in_num = input('Enter a Number: ')\n",
        "    in_num_duplicate = in_num\n",
        "    trackNumber = set()   \n",
        "    while True:\n",
        "        if in_num != '1' and str(in_num) not in trackNumber:\n",
        "            trackNumber.add(in_num)\n",
        "            sum = 0\n",
        "            for ele in range(len((in_num))):\n",
        "                sum = sum + int(in_num[ele])**2\n",
        "            in_num = str(sum)\n",
        "        elif str(in_num) in trackNumber:\n",
        "            print(f'{in_num_duplicate} is not a Happy Number')\n",
        "            break\n",
        "        else:\n",
        "            print(f'{in_num_duplicate} is a Happy Number')\n",
        "            break\n",
        "\n",
        "checkHappyNumber()\n",
        "checkHappyNumber()"
      ]
    },
    {
      "cell_type": "markdown",
      "id": "e9788e23",
      "metadata": {
        "id": "e9788e23"
      },
      "source": [
        "## 4.Write a Python Program to print all Happy numbers between 1 and 100 ?"
      ]
    },
    {
      "cell_type": "code",
      "execution_count": null,
      "id": "9b36ee23",
      "metadata": {
        "id": "9b36ee23",
        "outputId": "f5357c97-380d-46da-aa1e-e623ae1fb1ba"
      },
      "outputs": [
        {
          "name": "stdout",
          "output_type": "stream",
          "text": [
            "The Happy Numbers between 0 and 100 are [1, 7, 10, 13, 19, 23, 28, 31, 32, 44, 49, 68, 70, 79, 82, 86, 91, 94, 97, 100]\n"
          ]
        }
      ],
      "source": [
        "def checkHappyNumber(start=0,end=100):\n",
        "    happyNumbersList = []\n",
        "    for in_num in range(start,end+1):\n",
        "        in_num = str(in_num)\n",
        "        inum_holder = in_num\n",
        "        trackNumber = set()   \n",
        "        while True:\n",
        "            if in_num != '1' and str(in_num) not in trackNumber:\n",
        "                trackNumber.add(in_num)\n",
        "                sum = 0\n",
        "                for ele in range(len((in_num))):\n",
        "                    sum = sum + int(in_num[ele])**2\n",
        "                in_num = str(sum)\n",
        "            elif str(in_num) in trackNumber:\n",
        "                break\n",
        "            else:\n",
        "                happyNumbersList.append(int(inum_holder))\n",
        "                break\n",
        "    print(f'The Happy Numbers between {start} and {end} are {happyNumbersList}')\n",
        "    \n",
        "checkHappyNumber(0,100)"
      ]
    },
    {
      "cell_type": "markdown",
      "id": "50a22b23",
      "metadata": {
        "id": "50a22b23"
      },
      "source": [
        "## 5.Write a Python Program to determine whether the given number is a Harshad Number ?"
      ]
    },
    {
      "cell_type": "code",
      "execution_count": null,
      "id": "53dcd79f",
      "metadata": {
        "id": "53dcd79f",
        "outputId": "50b4cdb8-6b15-4902-96a4-b9365f423ae9"
      },
      "outputs": [
        {
          "name": "stdout",
          "output_type": "stream",
          "text": [
            "Enter a Number: 100\n",
            "100 is a Harshad Number\n",
            "Enter a Number: 111\n",
            "111 is a Harshad Number\n"
          ]
        }
      ],
      "source": [
        "def checkHarshadNumber():\n",
        "    in_num = input('Enter a Number: ')\n",
        "    sum = 0\n",
        "    for item in range(len(in_num)):\n",
        "        sum = sum + int(in_num[item])\n",
        "    if int(in_num)%sum == 0:\n",
        "        print(f'{in_num} is a Harshad Number')\n",
        "    else:\n",
        "        print(f'{in_num} is a Not Harshad Number')\n",
        "        \n",
        "checkHarshadNumber()\n",
        "checkHarshadNumber()"
      ]
    },
    {
      "cell_type": "markdown",
      "id": "50e0291b",
      "metadata": {
        "id": "50e0291b"
      },
      "source": [
        "## 6.Write a Python Program to print all pronic numbers between 1 and 100 ?"
      ]
    },
    {
      "cell_type": "code",
      "execution_count": null,
      "id": "1bf91e75",
      "metadata": {
        "id": "1bf91e75",
        "outputId": "3c9eb5bc-f423-4b2d-c157-4166290c15d7"
      },
      "outputs": [
        {
          "name": "stdout",
          "output_type": "stream",
          "text": [
            "[0, 2, 6, 12, 20, 30, 42, 56, 72, 90, 110, 132, 156, 182, 210, 240, 272, 306, 342, 380, 420, 462, 506, 552, 600, 650, 702, 756, 812, 870, 930, 992, 1056, 1122, 1190, 1260, 1332, 1406, 1482, 1560, 1640, 1722, 1806, 1892, 1980, 2070, 2162, 2256, 2352, 2450, 2550, 2652, 2756, 2862, 2970, 3080, 3192, 3306, 3422, 3540, 3660, 3782, 3906, 4032, 4160, 4290, 4422, 4556, 4692, 4830, 4970, 5112, 5256, 5402, 5550, 5700, 5852, 6006, 6162, 6320, 6480, 6642, 6806, 6972, 7140, 7310, 7482, 7656, 7832, 8010, 8190, 8372, 8556, 8742, 8930, 9120, 9312, 9506, 9702, 9900, 10100]\n"
          ]
        }
      ],
      "source": [
        "def printPronicNumbers(start=0,end=100):\n",
        "    outputList = []\n",
        "    for ele in range(start,end+1):\n",
        "        outputList.append((ele)*(ele+1))\n",
        "    print(outputList)\n",
        "                   \n",
        "printPronicNumbers()"
      ]
    },
    {
      "cell_type": "markdown",
      "id": "7f48e36f",
      "metadata": {
        "id": "7f48e36f"
      },
      "source": [
        "# Thank You"
      ]
    }
  ],
  "metadata": {
    "kernelspec": {
      "display_name": "Python 3 (ipykernel)",
      "language": "python",
      "name": "python3"
    },
    "language_info": {
      "codemirror_mode": {
        "name": "ipython",
        "version": 3
      },
      "file_extension": ".py",
      "mimetype": "text/x-python",
      "name": "python",
      "nbconvert_exporter": "python",
      "pygments_lexer": "ipython3",
      "version": "3.9.7"
    },
    "colab": {
      "provenance": []
    }
  },
  "nbformat": 4,
  "nbformat_minor": 5
}